{
 "cells": [
  {
   "cell_type": "markdown",
   "metadata": {},
   "source": [
    "<strong>Your assignment is to perform the following steps and explain your approach and result in the form of a Jupyter notebook.</strong>\n",
    "\n",
    "* Explore the available data using the data exploration tools covered in class. Show your analysis in the form of tabular reports, graphs, and commentary.\n",
    "* Use the exploration results to choose and/or craft features to use in a model. Explain why you chose each feature and then show how you modified and/or crafted the features.\n",
    "* Choose and apply <strong>at least two</strong> appropriate machine learning (ML) models to predict whether a patient is at risk of developing serious illness based on their medical history. Show all your code and results. The two models can be of a different types or the same type but with different features. At least one of the models must have a hyper parameter.\n",
    "* Assess the models' performance. Use all the tools we discussed in class in your assessment including the various metrics associated with the confusion matrix and an analysis of ROC . Compute the metrics and explain their value in comparing the models' performance."
   ]
  },
  {
   "cell_type": "markdown",
   "metadata": {},
   "source": [
    "IMPORT PACKAGES & READ IN CSV"
   ]
  },
  {
   "cell_type": "code",
   "execution_count": 74,
   "metadata": {},
   "outputs": [],
   "source": [
    "# import packages\n",
    "import numpy as np\n",
    "import pandas as pd\n",
    "\n",
    "import seaborn as sns\n",
    "import matplotlib.pyplot as plt\n",
    "\n",
    "from sklearn.metrics import confusion_matrix, roc_curve, roc_auc_score, classification_report\n",
    "from sklearn.linear_model import LogisticRegression\n",
    "from sklearn.model_selection import train_test_split, cross_val_score, cross_val_predict, KFold\n",
    "from sklearn.preprocessing import StandardScaler\n",
    "from sklearn.base import TransformerMixin\n",
    "from sklearn.pipeline import Pipeline"
   ]
  },
  {
   "cell_type": "code",
   "execution_count": 75,
   "metadata": {},
   "outputs": [
    {
     "name": "stdout",
     "output_type": "stream",
     "text": [
      "(1048575, 21)\n"
     ]
    },
    {
     "data": {
      "text/html": [
       "<div>\n",
       "<style scoped>\n",
       "    .dataframe tbody tr th:only-of-type {\n",
       "        vertical-align: middle;\n",
       "    }\n",
       "\n",
       "    .dataframe tbody tr th {\n",
       "        vertical-align: top;\n",
       "    }\n",
       "\n",
       "    .dataframe thead th {\n",
       "        text-align: right;\n",
       "    }\n",
       "</style>\n",
       "<table border=\"1\" class=\"dataframe\">\n",
       "  <thead>\n",
       "    <tr style=\"text-align: right;\">\n",
       "      <th></th>\n",
       "      <th>USMER</th>\n",
       "      <th>MEDICAL_UNIT</th>\n",
       "      <th>SEX</th>\n",
       "      <th>PATIENT_TYPE</th>\n",
       "      <th>DATE_DIED</th>\n",
       "      <th>INTUBED</th>\n",
       "      <th>PNEUMONIA</th>\n",
       "      <th>AGE</th>\n",
       "      <th>PREGNANT</th>\n",
       "      <th>DIABETES</th>\n",
       "      <th>...</th>\n",
       "      <th>ASTHMA</th>\n",
       "      <th>INMSUPR</th>\n",
       "      <th>HIPERTENSION</th>\n",
       "      <th>OTHER_DISEASE</th>\n",
       "      <th>CARDIOVASCULAR</th>\n",
       "      <th>OBESITY</th>\n",
       "      <th>RENAL_CHRONIC</th>\n",
       "      <th>TOBACCO</th>\n",
       "      <th>CLASIFFICATION_FINAL</th>\n",
       "      <th>ICU</th>\n",
       "    </tr>\n",
       "  </thead>\n",
       "  <tbody>\n",
       "    <tr>\n",
       "      <th>0</th>\n",
       "      <td>2</td>\n",
       "      <td>1</td>\n",
       "      <td>1</td>\n",
       "      <td>1</td>\n",
       "      <td>03/05/2020</td>\n",
       "      <td>97</td>\n",
       "      <td>1</td>\n",
       "      <td>65</td>\n",
       "      <td>2</td>\n",
       "      <td>2</td>\n",
       "      <td>...</td>\n",
       "      <td>2</td>\n",
       "      <td>2</td>\n",
       "      <td>1</td>\n",
       "      <td>2</td>\n",
       "      <td>2</td>\n",
       "      <td>2</td>\n",
       "      <td>2</td>\n",
       "      <td>2</td>\n",
       "      <td>3</td>\n",
       "      <td>97</td>\n",
       "    </tr>\n",
       "    <tr>\n",
       "      <th>1</th>\n",
       "      <td>2</td>\n",
       "      <td>1</td>\n",
       "      <td>2</td>\n",
       "      <td>1</td>\n",
       "      <td>03/06/2020</td>\n",
       "      <td>97</td>\n",
       "      <td>1</td>\n",
       "      <td>72</td>\n",
       "      <td>97</td>\n",
       "      <td>2</td>\n",
       "      <td>...</td>\n",
       "      <td>2</td>\n",
       "      <td>2</td>\n",
       "      <td>1</td>\n",
       "      <td>2</td>\n",
       "      <td>2</td>\n",
       "      <td>1</td>\n",
       "      <td>1</td>\n",
       "      <td>2</td>\n",
       "      <td>5</td>\n",
       "      <td>97</td>\n",
       "    </tr>\n",
       "    <tr>\n",
       "      <th>2</th>\n",
       "      <td>2</td>\n",
       "      <td>1</td>\n",
       "      <td>2</td>\n",
       "      <td>2</td>\n",
       "      <td>09/06/2020</td>\n",
       "      <td>1</td>\n",
       "      <td>2</td>\n",
       "      <td>55</td>\n",
       "      <td>97</td>\n",
       "      <td>1</td>\n",
       "      <td>...</td>\n",
       "      <td>2</td>\n",
       "      <td>2</td>\n",
       "      <td>2</td>\n",
       "      <td>2</td>\n",
       "      <td>2</td>\n",
       "      <td>2</td>\n",
       "      <td>2</td>\n",
       "      <td>2</td>\n",
       "      <td>3</td>\n",
       "      <td>2</td>\n",
       "    </tr>\n",
       "    <tr>\n",
       "      <th>3</th>\n",
       "      <td>2</td>\n",
       "      <td>1</td>\n",
       "      <td>1</td>\n",
       "      <td>1</td>\n",
       "      <td>12/06/2020</td>\n",
       "      <td>97</td>\n",
       "      <td>2</td>\n",
       "      <td>53</td>\n",
       "      <td>2</td>\n",
       "      <td>2</td>\n",
       "      <td>...</td>\n",
       "      <td>2</td>\n",
       "      <td>2</td>\n",
       "      <td>2</td>\n",
       "      <td>2</td>\n",
       "      <td>2</td>\n",
       "      <td>2</td>\n",
       "      <td>2</td>\n",
       "      <td>2</td>\n",
       "      <td>7</td>\n",
       "      <td>97</td>\n",
       "    </tr>\n",
       "    <tr>\n",
       "      <th>4</th>\n",
       "      <td>2</td>\n",
       "      <td>1</td>\n",
       "      <td>2</td>\n",
       "      <td>1</td>\n",
       "      <td>21/06/2020</td>\n",
       "      <td>97</td>\n",
       "      <td>2</td>\n",
       "      <td>68</td>\n",
       "      <td>97</td>\n",
       "      <td>1</td>\n",
       "      <td>...</td>\n",
       "      <td>2</td>\n",
       "      <td>2</td>\n",
       "      <td>1</td>\n",
       "      <td>2</td>\n",
       "      <td>2</td>\n",
       "      <td>2</td>\n",
       "      <td>2</td>\n",
       "      <td>2</td>\n",
       "      <td>3</td>\n",
       "      <td>97</td>\n",
       "    </tr>\n",
       "  </tbody>\n",
       "</table>\n",
       "<p>5 rows × 21 columns</p>\n",
       "</div>"
      ],
      "text/plain": [
       "   USMER  MEDICAL_UNIT  SEX  PATIENT_TYPE   DATE_DIED  INTUBED  PNEUMONIA  \\\n",
       "0      2             1    1             1  03/05/2020       97          1   \n",
       "1      2             1    2             1  03/06/2020       97          1   \n",
       "2      2             1    2             2  09/06/2020        1          2   \n",
       "3      2             1    1             1  12/06/2020       97          2   \n",
       "4      2             1    2             1  21/06/2020       97          2   \n",
       "\n",
       "   AGE  PREGNANT  DIABETES  ...  ASTHMA  INMSUPR  HIPERTENSION  OTHER_DISEASE  \\\n",
       "0   65         2         2  ...       2        2             1              2   \n",
       "1   72        97         2  ...       2        2             1              2   \n",
       "2   55        97         1  ...       2        2             2              2   \n",
       "3   53         2         2  ...       2        2             2              2   \n",
       "4   68        97         1  ...       2        2             1              2   \n",
       "\n",
       "   CARDIOVASCULAR  OBESITY  RENAL_CHRONIC  TOBACCO  CLASIFFICATION_FINAL  ICU  \n",
       "0               2        2              2        2                     3   97  \n",
       "1               2        1              1        2                     5   97  \n",
       "2               2        2              2        2                     3    2  \n",
       "3               2        2              2        2                     7   97  \n",
       "4               2        2              2        2                     3   97  \n",
       "\n",
       "[5 rows x 21 columns]"
      ]
     },
     "execution_count": 75,
     "metadata": {},
     "output_type": "execute_result"
    }
   ],
   "source": [
    "df = pd.read_csv(\"Covid Data.csv\")\n",
    "print(df.shape)\n",
    "df.head()"
   ]
  },
  {
   "cell_type": "markdown",
   "metadata": {},
   "source": [
    "FIRST LOOK"
   ]
  },
  {
   "cell_type": "code",
   "execution_count": 76,
   "metadata": {},
   "outputs": [
    {
     "name": "stdout",
     "output_type": "stream",
     "text": [
      "<class 'pandas.core.frame.DataFrame'>\n",
      "RangeIndex: 1048575 entries, 0 to 1048574\n",
      "Data columns (total 21 columns):\n",
      " #   Column                Non-Null Count    Dtype \n",
      "---  ------                --------------    ----- \n",
      " 0   USMER                 1048575 non-null  int64 \n",
      " 1   MEDICAL_UNIT          1048575 non-null  int64 \n",
      " 2   SEX                   1048575 non-null  int64 \n",
      " 3   PATIENT_TYPE          1048575 non-null  int64 \n",
      " 4   DATE_DIED             1048575 non-null  object\n",
      " 5   INTUBED               1048575 non-null  int64 \n",
      " 6   PNEUMONIA             1048575 non-null  int64 \n",
      " 7   AGE                   1048575 non-null  int64 \n",
      " 8   PREGNANT              1048575 non-null  int64 \n",
      " 9   DIABETES              1048575 non-null  int64 \n",
      " 10  COPD                  1048575 non-null  int64 \n",
      " 11  ASTHMA                1048575 non-null  int64 \n",
      " 12  INMSUPR               1048575 non-null  int64 \n",
      " 13  HIPERTENSION          1048575 non-null  int64 \n",
      " 14  OTHER_DISEASE         1048575 non-null  int64 \n",
      " 15  CARDIOVASCULAR        1048575 non-null  int64 \n",
      " 16  OBESITY               1048575 non-null  int64 \n",
      " 17  RENAL_CHRONIC         1048575 non-null  int64 \n",
      " 18  TOBACCO               1048575 non-null  int64 \n",
      " 19  CLASIFFICATION_FINAL  1048575 non-null  int64 \n",
      " 20  ICU                   1048575 non-null  int64 \n",
      "dtypes: int64(20), object(1)\n",
      "memory usage: 168.0+ MB\n"
     ]
    }
   ],
   "source": [
    "# data types look good. I do not plan on using the DATE_DIED column for analysis or\n",
    "# model building so it's fine to leave as is\n",
    "df.info()"
   ]
  },
  {
   "cell_type": "code",
   "execution_count": 77,
   "metadata": {},
   "outputs": [
    {
     "data": {
      "text/plain": [
       "USMER                   0\n",
       "MEDICAL_UNIT            0\n",
       "SEX                     0\n",
       "PATIENT_TYPE            0\n",
       "DATE_DIED               0\n",
       "INTUBED                 0\n",
       "PNEUMONIA               0\n",
       "AGE                     0\n",
       "PREGNANT                0\n",
       "DIABETES                0\n",
       "COPD                    0\n",
       "ASTHMA                  0\n",
       "INMSUPR                 0\n",
       "HIPERTENSION            0\n",
       "OTHER_DISEASE           0\n",
       "CARDIOVASCULAR          0\n",
       "OBESITY                 0\n",
       "RENAL_CHRONIC           0\n",
       "TOBACCO                 0\n",
       "CLASIFFICATION_FINAL    0\n",
       "ICU                     0\n",
       "dtype: int64"
      ]
     },
     "execution_count": 77,
     "metadata": {},
     "output_type": "execute_result"
    }
   ],
   "source": [
    "# seems like there are no missing values besides the known 97, 98, 99 value placeholders (according to data card)\n",
    "df.isnull().sum()"
   ]
  },
  {
   "cell_type": "markdown",
   "metadata": {},
   "source": [
    "DATA CLEANING"
   ]
  },
  {
   "cell_type": "code",
   "execution_count": 78,
   "metadata": {},
   "outputs": [
    {
     "name": "stdout",
     "output_type": "stream",
     "text": [
      "DEATH\n",
      "2    971633\n",
      "1     76942\n",
      "Name: count, dtype: int64\n"
     ]
    },
    {
     "data": {
      "text/html": [
       "<div>\n",
       "<style scoped>\n",
       "    .dataframe tbody tr th:only-of-type {\n",
       "        vertical-align: middle;\n",
       "    }\n",
       "\n",
       "    .dataframe tbody tr th {\n",
       "        vertical-align: top;\n",
       "    }\n",
       "\n",
       "    .dataframe thead th {\n",
       "        text-align: right;\n",
       "    }\n",
       "</style>\n",
       "<table border=\"1\" class=\"dataframe\">\n",
       "  <thead>\n",
       "    <tr style=\"text-align: right;\">\n",
       "      <th></th>\n",
       "      <th>USMER</th>\n",
       "      <th>MEDICAL_UNIT</th>\n",
       "      <th>SEX</th>\n",
       "      <th>PATIENT_TYPE</th>\n",
       "      <th>INTUBED</th>\n",
       "      <th>PNEUMONIA</th>\n",
       "      <th>AGE</th>\n",
       "      <th>PREGNANT</th>\n",
       "      <th>DIABETES</th>\n",
       "      <th>COPD</th>\n",
       "      <th>...</th>\n",
       "      <th>INMSUPR</th>\n",
       "      <th>HIPERTENSION</th>\n",
       "      <th>OTHER_DISEASE</th>\n",
       "      <th>CARDIOVASCULAR</th>\n",
       "      <th>OBESITY</th>\n",
       "      <th>RENAL_CHRONIC</th>\n",
       "      <th>TOBACCO</th>\n",
       "      <th>CLASIFFICATION_FINAL</th>\n",
       "      <th>ICU</th>\n",
       "      <th>DEATH</th>\n",
       "    </tr>\n",
       "  </thead>\n",
       "  <tbody>\n",
       "    <tr>\n",
       "      <th>0</th>\n",
       "      <td>2</td>\n",
       "      <td>1</td>\n",
       "      <td>1</td>\n",
       "      <td>1</td>\n",
       "      <td>97</td>\n",
       "      <td>1</td>\n",
       "      <td>65</td>\n",
       "      <td>2</td>\n",
       "      <td>2</td>\n",
       "      <td>2</td>\n",
       "      <td>...</td>\n",
       "      <td>2</td>\n",
       "      <td>1</td>\n",
       "      <td>2</td>\n",
       "      <td>2</td>\n",
       "      <td>2</td>\n",
       "      <td>2</td>\n",
       "      <td>2</td>\n",
       "      <td>3</td>\n",
       "      <td>97</td>\n",
       "      <td>1</td>\n",
       "    </tr>\n",
       "    <tr>\n",
       "      <th>1</th>\n",
       "      <td>2</td>\n",
       "      <td>1</td>\n",
       "      <td>2</td>\n",
       "      <td>1</td>\n",
       "      <td>97</td>\n",
       "      <td>1</td>\n",
       "      <td>72</td>\n",
       "      <td>97</td>\n",
       "      <td>2</td>\n",
       "      <td>2</td>\n",
       "      <td>...</td>\n",
       "      <td>2</td>\n",
       "      <td>1</td>\n",
       "      <td>2</td>\n",
       "      <td>2</td>\n",
       "      <td>1</td>\n",
       "      <td>1</td>\n",
       "      <td>2</td>\n",
       "      <td>5</td>\n",
       "      <td>97</td>\n",
       "      <td>1</td>\n",
       "    </tr>\n",
       "    <tr>\n",
       "      <th>2</th>\n",
       "      <td>2</td>\n",
       "      <td>1</td>\n",
       "      <td>2</td>\n",
       "      <td>2</td>\n",
       "      <td>1</td>\n",
       "      <td>2</td>\n",
       "      <td>55</td>\n",
       "      <td>97</td>\n",
       "      <td>1</td>\n",
       "      <td>2</td>\n",
       "      <td>...</td>\n",
       "      <td>2</td>\n",
       "      <td>2</td>\n",
       "      <td>2</td>\n",
       "      <td>2</td>\n",
       "      <td>2</td>\n",
       "      <td>2</td>\n",
       "      <td>2</td>\n",
       "      <td>3</td>\n",
       "      <td>2</td>\n",
       "      <td>1</td>\n",
       "    </tr>\n",
       "    <tr>\n",
       "      <th>3</th>\n",
       "      <td>2</td>\n",
       "      <td>1</td>\n",
       "      <td>1</td>\n",
       "      <td>1</td>\n",
       "      <td>97</td>\n",
       "      <td>2</td>\n",
       "      <td>53</td>\n",
       "      <td>2</td>\n",
       "      <td>2</td>\n",
       "      <td>2</td>\n",
       "      <td>...</td>\n",
       "      <td>2</td>\n",
       "      <td>2</td>\n",
       "      <td>2</td>\n",
       "      <td>2</td>\n",
       "      <td>2</td>\n",
       "      <td>2</td>\n",
       "      <td>2</td>\n",
       "      <td>7</td>\n",
       "      <td>97</td>\n",
       "      <td>1</td>\n",
       "    </tr>\n",
       "    <tr>\n",
       "      <th>4</th>\n",
       "      <td>2</td>\n",
       "      <td>1</td>\n",
       "      <td>2</td>\n",
       "      <td>1</td>\n",
       "      <td>97</td>\n",
       "      <td>2</td>\n",
       "      <td>68</td>\n",
       "      <td>97</td>\n",
       "      <td>1</td>\n",
       "      <td>2</td>\n",
       "      <td>...</td>\n",
       "      <td>2</td>\n",
       "      <td>1</td>\n",
       "      <td>2</td>\n",
       "      <td>2</td>\n",
       "      <td>2</td>\n",
       "      <td>2</td>\n",
       "      <td>2</td>\n",
       "      <td>3</td>\n",
       "      <td>97</td>\n",
       "      <td>1</td>\n",
       "    </tr>\n",
       "  </tbody>\n",
       "</table>\n",
       "<p>5 rows × 21 columns</p>\n",
       "</div>"
      ],
      "text/plain": [
       "   USMER  MEDICAL_UNIT  SEX  PATIENT_TYPE  INTUBED  PNEUMONIA  AGE  PREGNANT  \\\n",
       "0      2             1    1             1       97          1   65         2   \n",
       "1      2             1    2             1       97          1   72        97   \n",
       "2      2             1    2             2        1          2   55        97   \n",
       "3      2             1    1             1       97          2   53         2   \n",
       "4      2             1    2             1       97          2   68        97   \n",
       "\n",
       "   DIABETES  COPD  ...  INMSUPR  HIPERTENSION  OTHER_DISEASE  CARDIOVASCULAR  \\\n",
       "0         2     2  ...        2             1              2               2   \n",
       "1         2     2  ...        2             1              2               2   \n",
       "2         1     2  ...        2             2              2               2   \n",
       "3         2     2  ...        2             2              2               2   \n",
       "4         1     2  ...        2             1              2               2   \n",
       "\n",
       "   OBESITY  RENAL_CHRONIC  TOBACCO  CLASIFFICATION_FINAL  ICU  DEATH  \n",
       "0        2              2        2                     3   97      1  \n",
       "1        1              1        2                     5   97      1  \n",
       "2        2              2        2                     3    2      1  \n",
       "3        2              2        2                     7   97      1  \n",
       "4        2              2        2                     3   97      1  \n",
       "\n",
       "[5 rows x 21 columns]"
      ]
     },
     "execution_count": 78,
     "metadata": {},
     "output_type": "execute_result"
    }
   ],
   "source": [
    "# First thing to do is create our label. I wanted to use patient death as the variable to predict,\n",
    "# but for that we would first have to create a new column using the DATE_DIED column in the dataset.\n",
    "\n",
    "df['DEATH'] = [2 if row=='9999-99-99' else 1 for row in df['DATE_DIED']]\n",
    "print(df['DEATH'].value_counts())\n",
    "\n",
    "# Drop the DATE_DIED column since we no longer need it\n",
    "df.drop('DATE_DIED', axis=1, inplace=True)\n",
    "\n",
    "df.head()"
   ]
  },
  {
   "cell_type": "code",
   "execution_count": 79,
   "metadata": {},
   "outputs": [
    {
     "name": "stdout",
     "output_type": "stream",
     "text": [
      "{'USMER': 0, 'MEDICAL_UNIT': 0, 'SEX': 0, 'PATIENT_TYPE': 0, 'INTUBED': 855869, 'PNEUMONIA': 16003, 'AGE': 345, 'PREGNANT': 527265, 'DIABETES': 3338, 'COPD': 3003, 'ASTHMA': 2979, 'INMSUPR': 3404, 'HIPERTENSION': 3104, 'OTHER_DISEASE': 5045, 'CARDIOVASCULAR': 3076, 'OBESITY': 3032, 'RENAL_CHRONIC': 3006, 'TOBACCO': 3220, 'CLASIFFICATION_FINAL': 0, 'ICU': 856032, 'DEATH': 0}\n"
     ]
    }
   ],
   "source": [
    "# Now it's time to deal with the missing values. First I want to see what the total counts\n",
    "# of missing values are in each column\n",
    "\n",
    "missing_vals = {}\n",
    "\n",
    "for col in df.columns:\n",
    "    missing_vals[col] = df.loc[(df[col] == 97) | (df[col] == 98) | (df[col] == 99), col].count()\n",
    "\n",
    "print(missing_vals)"
   ]
  },
  {
   "cell_type": "markdown",
   "metadata": {},
   "source": [
    "Based on the values in the dictionary:\n",
    "\n",
    "\n",
    "Columns to drop: (too many missing values to keep)\n",
    "* INTUBED\n",
    "* ICU\n",
    "* PREGNANT\n",
    "\n",
    "\n",
    "Rows to drop: (few enough missing values that we can get away with dropping the full row)\n",
    "* PNEUMONIA\n",
    "* DIABETES\n",
    "* COPD\n",
    "* ASTHMA\n",
    "* INMSUPR\n",
    "* HIPERTENSION\n",
    "* OTHER_DISEASE\n",
    "* CARDIOVASCULAR\n",
    "* OBESITY\n",
    "* RENAL_CHRONIC\n",
    "* TOBACCO\n",
    "\n",
    "\n",
    "Note: No clue whether or not the 97,98,99 values for AGE are missing values or the\n",
    "actual patient age, but it should be okay considering the size of the dataset"
   ]
  },
  {
   "cell_type": "code",
   "execution_count": 80,
   "metadata": {},
   "outputs": [
    {
     "name": "stdout",
     "output_type": "stream",
     "text": [
      "(1048575, 21)\n",
      "(1025152, 18)\n"
     ]
    }
   ],
   "source": [
    "print(df.shape)\n",
    "\n",
    "# drop cols\n",
    "cols_to_drop = ['ICU', 'INTUBED', 'PREGNANT']\n",
    "df.drop(cols_to_drop, axis=1, inplace=True)\n",
    "\n",
    "# drop rows (wish there was a more condensed way to do this)\n",
    "vals_to_drop = [97,98,99]\n",
    "df = df[~df['PNEUMONIA'].isin(vals_to_drop)]\n",
    "df = df[~df['DIABETES'].isin(vals_to_drop)]\n",
    "df = df[~df['COPD'].isin(vals_to_drop)]\n",
    "df = df[~df['ASTHMA'].isin(vals_to_drop)]\n",
    "df = df[~df['INMSUPR'].isin(vals_to_drop)]\n",
    "df = df[~df['HIPERTENSION'].isin(vals_to_drop)]\n",
    "df = df[~df['OTHER_DISEASE'].isin(vals_to_drop)]\n",
    "df = df[~df['CARDIOVASCULAR'].isin(vals_to_drop)]\n",
    "df = df[~df['OBESITY'].isin(vals_to_drop)]\n",
    "df = df[~df['RENAL_CHRONIC'].isin(vals_to_drop)]\n",
    "df = df[~df['TOBACCO'].isin(vals_to_drop)]\n",
    "\n",
    "print(df.shape)"
   ]
  },
  {
   "cell_type": "code",
   "execution_count": 81,
   "metadata": {},
   "outputs": [
    {
     "name": "stdout",
     "output_type": "stream",
     "text": [
      "USMER\n",
      "[2 1]\n",
      "MEDICAL_UNIT\n",
      "[ 1  2  3  4  5  6  7  8  9 10 11 12 13]\n",
      "SEX\n",
      "[1 2]\n",
      "PATIENT_TYPE\n",
      "[1 2]\n",
      "PNEUMONIA\n",
      "[1 2]\n",
      "AGE\n",
      "[ 65  72  55  53  68  40  64  37  25  38  24  30  48  23  80  61  54  59\n",
      "  45  26  32  49  39  27  57  20  56  47  50  46  43  28  33  16  62  58\n",
      "  36  44  66  52  51  35  19  90  34  22  29  14  31  42  15   0  17  41\n",
      "   2  10   1  12   4   7   6   8  60   5  13  63  75  81  67  18  70  88\n",
      "  85  92  73  74  78  76  82  77  86  71  95  87  83  84  79  69  89   3\n",
      "  97  93 100  91  21 103  11   9  94  96 101 107 102  98  99 109 116 105\n",
      " 111 104 114 120 106 110 118 117 121 108 115 119 113]\n",
      "DIABETES\n",
      "[2 1]\n",
      "COPD\n",
      "[2 1]\n",
      "ASTHMA\n",
      "[2 1]\n",
      "INMSUPR\n",
      "[2 1]\n",
      "HIPERTENSION\n",
      "[1 2]\n",
      "OTHER_DISEASE\n",
      "[2 1]\n",
      "CARDIOVASCULAR\n",
      "[2 1]\n",
      "OBESITY\n",
      "[2 1]\n",
      "RENAL_CHRONIC\n",
      "[2 1]\n",
      "TOBACCO\n",
      "[2 1]\n",
      "CLASIFFICATION_FINAL\n",
      "[3 5 7 6 1 2 4]\n",
      "DEATH\n",
      "[1 2]\n"
     ]
    }
   ],
   "source": [
    "# seems like we got rid of all of our missing values\n",
    "for col in df.columns:\n",
    "    print(col)\n",
    "    print(df[col].unique())"
   ]
  },
  {
   "cell_type": "markdown",
   "metadata": {},
   "source": [
    "LOGISTIC REGRESSION (Binary Classification)"
   ]
  },
  {
   "cell_type": "code",
   "execution_count": 119,
   "metadata": {},
   "outputs": [],
   "source": [
    "# choose features. Drop the death column since that will be used as the label, keep all others for now.\n",
    "\n",
    "X = df.drop(['DEATH'], axis=1)\n",
    "y = df['DEATH']"
   ]
  },
  {
   "cell_type": "code",
   "execution_count": 126,
   "metadata": {},
   "outputs": [
    {
     "name": "stdout",
     "output_type": "stream",
     "text": [
      "Cross-Validation Results:\n",
      "[0.93839956 0.937229   0.9380676  0.93661903 0.93830659]\n"
     ]
    }
   ],
   "source": [
    "# set up a pipeline to scale the data and apply logistic regression model\n",
    "\n",
    "# we are using a logistic regression model since we are trying to perform \n",
    "# binary classification with primarily binary columns\n",
    "\n",
    "steps = [('scaler', StandardScaler()),\n",
    "          ('logreg', LogisticRegression(max_iter=200, solver='liblinear'))]\n",
    "\n",
    "\n",
    "pipeline = Pipeline(steps)\n",
    "\n",
    "# set up KFold for cross-validation\n",
    "kf = KFold(n_splits=5, shuffle=True, random_state=42)\n",
    "\n",
    "cv_results = cross_val_score(pipeline, X, y, cv=kf)\n",
    "\n",
    "print(\"Cross-Validation Results:\")\n",
    "print(cv_results)"
   ]
  },
  {
   "cell_type": "code",
   "execution_count": 121,
   "metadata": {},
   "outputs": [
    {
     "data": {
      "text/plain": [
       "DEATH\n",
       "2    0.927119\n",
       "1    0.072881\n",
       "Name: proportion, dtype: float64"
      ]
     },
     "execution_count": 121,
     "metadata": {},
     "output_type": "execute_result"
    }
   ],
   "source": [
    "# data has a 92%/8% split, 93.8% accuracy is better than random guessing.\n",
    "\n",
    "df[\"DEATH\"].value_counts(normalize=True)"
   ]
  },
  {
   "cell_type": "markdown",
   "metadata": {},
   "source": [
    "CONFUSION MATRIX"
   ]
  },
  {
   "cell_type": "code",
   "execution_count": 122,
   "metadata": {},
   "outputs": [
    {
     "name": "stdout",
     "output_type": "stream",
     "text": [
      "\n",
      "Confusion Matrix:\n",
      "[[ 32863  41851]\n",
      " [ 21991 928447]]\n"
     ]
    }
   ],
   "source": [
    "# cross validated predictions\n",
    "y_pred = cross_val_predict(pipeline, X, y, cv=kf)\n",
    "\n",
    "# print the confusion matrix to see where the issues with accuracy are coming from\n",
    "# since we are dealing with a very unbalanced dataset and accuracy is not a good \n",
    "# enough metric by itself to evaluate model performance.\n",
    "\n",
    "# accuracy is generally a better tool to evaluate model performance on balanced data\n",
    "\n",
    "print(\"\\nConfusion Matrix:\")\n",
    "print(confusion_matrix(y, y_pred))\n",
    "\n",
    "# lots of false negatives here"
   ]
  },
  {
   "cell_type": "code",
   "execution_count": 123,
   "metadata": {},
   "outputs": [
    {
     "name": "stdout",
     "output_type": "stream",
     "text": [
      "\n",
      "Classification Report:\n",
      "              precision    recall  f1-score   support\n",
      "\n",
      "           1       0.60      0.44      0.51     74714\n",
      "           2       0.96      0.98      0.97    950438\n",
      "\n",
      "    accuracy                           0.94   1025152\n",
      "   macro avg       0.78      0.71      0.74   1025152\n",
      "weighted avg       0.93      0.94      0.93   1025152\n",
      "\n"
     ]
    }
   ],
   "source": [
    "# print the classification report\n",
    "\n",
    "print(\"\\nClassification Report:\")\n",
    "print(classification_report(y, y_pred))"
   ]
  },
  {
   "cell_type": "markdown",
   "metadata": {},
   "source": [
    "ROC CURVE"
   ]
  },
  {
   "cell_type": "code",
   "execution_count": 124,
   "metadata": {},
   "outputs": [
    {
     "data": {
      "image/png": "[encoded data removed]",
      "text/plain": [
       "<Figure size 640x480 with 1 Axes>"
      ]
     },
     "metadata": {},
     "output_type": "display_data"
    },
    {
     "name": "stdout",
     "output_type": "stream",
     "text": [
      "AUC-ROC: 0.9541871455907326\n"
     ]
    }
   ],
   "source": [
    "y_prob = cross_val_predict(pipeline, X, y, cv=kf, method='predict_proba')\n",
    "\n",
    "fpr, tpr, thresholds = roc_curve(y, y_prob[:, 1], pos_label=2)\n",
    "\n",
    "# plot the ROC curve\n",
    "plt.plot(fpr, tpr, label='ROC curve')\n",
    "plt.xlabel('False Positive Rate')\n",
    "plt.ylabel('True Positive Rate')\n",
    "plt.title('ROC Curve')\n",
    "plt.show()\n",
    "\n",
    "# calculate AUC-ROC\n",
    "auc_roc = roc_auc_score(y, y_prob[:, 1])\n",
    "print(f'AUC-ROC: {auc_roc}')\n"
   ]
  },
  {
   "cell_type": "markdown",
   "metadata": {},
   "source": [
    "PRECISION-RECALL CURVE"
   ]
  },
  {
   "cell_type": "code",
   "execution_count": 125,
   "metadata": {},
   "outputs": [
    {
     "data": {
      "image/png": "[encoded data removed]",
      "text/plain": [
       "<Figure size 640x480 with 1 Axes>"
      ]
     },
     "metadata": {},
     "output_type": "display_data"
    },
    {
     "name": "stdout",
     "output_type": "stream",
     "text": [
      "AUC-PR: 0.996182284480208\n",
      "Best Threshold (Precision-Recall): 0.4469037085702825\n"
     ]
    }
   ],
   "source": [
    "from sklearn.metrics import precision_recall_curve, auc\n",
    "\n",
    "precision, recall, thresholds_pr = precision_recall_curve(y, y_prob[:, 1], pos_label=2)\n",
    "\n",
    "# plot precision recall curve\n",
    "plt.plot(recall, precision, label='Precision-Recall curve')\n",
    "plt.xlabel('Recall')\n",
    "plt.ylabel('Precision')\n",
    "plt.title('Precision-Recall Curve')\n",
    "plt.show()\n",
    "\n",
    "# Calculate AUC-PR\n",
    "auc_pr = auc(recall, precision)\n",
    "print(f'AUC-PR: {auc_pr}')\n",
    "\n",
    "# find the threshold that maximizes the F1 score\n",
    "best_threshold_pr = thresholds_pr[np.argmax(2 * precision * recall / (precision + recall))]\n",
    "print(f'Best Threshold (Precision-Recall): {best_threshold_pr}')\n"
   ]
  },
  {
   "cell_type": "markdown",
   "metadata": {},
   "source": [
    "LOGISTIC REGRESSION (CUTTING DOWN ON FEATURES)"
   ]
  },
  {
   "cell_type": "markdown",
   "metadata": {},
   "source": [
    "Now that I've used all the features in the dataset, I want to see how I can play around with different features to see how it affects the model's performance"
   ]
  },
  {
   "cell_type": "code",
   "execution_count": null,
   "metadata": {},
   "outputs": [],
   "source": []
  }
 ],
 "metadata": {
  "kernelspec": {
   "display_name": "dasc2113",
   "language": "python",
   "name": "python3"
  },
  "language_info": {
   "codemirror_mode": {
    "name": "ipython",
    "version": 3
   },
   "file_extension": ".py",
   "mimetype": "text/x-python",
   "name": "python",
   "nbconvert_exporter": "python",
   "pygments_lexer": "ipython3",
   "version": "3.11.4"
  }
 },
 "nbformat": 4,
 "nbformat_minor": 2
}
